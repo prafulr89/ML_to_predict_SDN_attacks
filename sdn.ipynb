{
  "nbformat": 4,
  "nbformat_minor": 0,
  "metadata": {
    "colab": {
      "name": "Untitled6.ipynb",
      "provenance": [],
      "authorship_tag": "ABX9TyMKyGo/ctRyG1e49jbg68Z9",
      "include_colab_link": true
    },
    "kernelspec": {
      "name": "python3",
      "display_name": "Python 3"
    },
    "language_info": {
      "name": "python"
    }
  },
  "cells": [
    {
      "cell_type": "markdown",
      "metadata": {
        "id": "view-in-github",
        "colab_type": "text"
      },
      "source": [
        "<a href=\"https://colab.research.google.com/github/prafulr89/ML_to_predict_SDN_attacks/blob/main/sdn.ipynb\" target=\"_parent\"><img src=\"https://colab.research.google.com/assets/colab-badge.svg\" alt=\"Open In Colab\"/></a>"
      ]
    },
    {
      "cell_type": "code",
      "execution_count": null,
      "metadata": {
        "id": "WwiDpbDiLe3u"
      },
      "outputs": [],
      "source": [
        "from keras.models import Sequential, load_model\n",
        "from keras.layers import Dense, LSTM, Bidirectional, Embedding, Dropout\n",
        "from keras.utils.vis_utils import plot_model\n",
        "from keras.utils.np_utils import to_categorical\n",
        "from keras.utils import np_utils\n"
      ]
    },
    {
      "cell_type": "code",
      "source": [
        "import pandas as pd\n",
        "\n",
        "data_cnt = 10000\n",
        "\n",
        "pve = pd.read_csv('dataset_attack.csv', nrows = data_cnt).drop(['frame.encap_type', 'ip.src', 'ip.dst','frame.protocols'],axis=1)\n",
        "nve = pd.read_csv('dataset_normal.csv', nrows = data_cnt).drop(['frame.encap_type','ip.src', 'ip.dst','frame.protocols'],axis=1)"
      ],
      "metadata": {
        "id": "H1bWsJ7MNgSz"
      },
      "execution_count": null,
      "outputs": []
    },
    {
      "cell_type": "code",
      "source": [
        "import numpy as ny\n",
        "\n",
        "X_P= pve.drop(['class'], axis = 1).values\n",
        "X_N= nve.drop(['class'], axis = 1).values\n",
        "y_p= pve['class'].replace(to_replace=\"attack\",value=\"1\")\n",
        "y_n= pve['class'].replace(to_replace=\"normal\",value=\"0\")\n",
        "X=ny.concatenate((X_P,X_P))\n",
        "y=ny.concatenate((y_p,y_p))\n",
        "print(X)\n",
        "print(y)"
      ],
      "metadata": {
        "id": "bq9h6nhaNjco"
      },
      "execution_count": null,
      "outputs": []
    },
    {
      "cell_type": "code",
      "source": [
        "from sklearn.preprocessing import StandardScaler\n",
        "\n",
        "slr = StandardScaler(copy=True, with_mean=True, with_std=True)\n",
        "slr.fit(X)\n",
        "X = slr.transform(X)\n",
        "print(X.shape)\n"
      ],
      "metadata": {
        "id": "x4gYq8CXNlfb"
      },
      "execution_count": null,
      "outputs": []
    },
    {
      "cell_type": "code",
      "source": [
        "col_cnt = X.shape[1]\n",
        "print(col_cnt)\n",
        "row_cnt = X.shape[0]\n",
        "print(row_cnt)\n",
        "matrix = ny.zeros((row_cnt-col_cnt, 25, col_cnt))\n",
        "\n",
        "for i in range(row_cnt-col_cnt):\n",
        "    temp = ny.zeros((25, col_cnt))\n",
        "    for j in range(i, i + 25 - 1):\n",
        "        temp[j-i] = X[j]\n",
        "    matrix[i] = temp\n",
        "#print(I)\n",
        "#print(X.shape)\n",
        "#print(X)\n",
        "from sklearn.model_selection import train_test_split\n",
        "X_train, X_test, y_train, y_test = train_test_split(matrix, y[25:20000], test_size = 0.2)\n",
        "y_train=ny.asarray(y_train).astype(ny.int32)"
      ],
      "metadata": {
        "id": "DnfO2buONntJ"
      },
      "execution_count": null,
      "outputs": []
    },
    {
      "cell_type": "code",
      "source": [
        "def create_baseline():\n",
        "    model = Sequential()\n",
        "    model.add(Bidirectional(LSTM(64, activation='tanh', kernel_regularizer='l2')))\n",
        "    model.add(Dense(128, activation = 'relu', kernel_regularizer='l2'))\n",
        "    model.add(Dense(1, activation = 'sigmoid', kernel_regularizer='l2'))\n",
        "    return model\n"
      ],
      "metadata": {
        "id": "zXcCBhyeNspZ"
      },
      "execution_count": null,
      "outputs": []
    },
    {
      "cell_type": "code",
      "source": [
        "model = create_baseline()\n",
        "model.compile(loss='mse', optimizer=\"rmsprop\", metrics=['accuracy'])"
      ],
      "metadata": {
        "id": "VVrtxe2gNvSW"
      },
      "execution_count": null,
      "outputs": []
    },
    {
      "cell_type": "code",
      "source": [
        "model.fit(X_train, y_train, epochs = 40,validation_split=0.2, verbose = 1)"
      ],
      "metadata": {
        "id": "nFTQ31XcNxJz"
      },
      "execution_count": null,
      "outputs": []
    }
  ]
}