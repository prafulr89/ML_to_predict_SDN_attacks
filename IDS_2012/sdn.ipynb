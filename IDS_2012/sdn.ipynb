{
 "cells": [
  {
   "cell_type": "code",
   "execution_count": null,
   "id": "infinite-newark",
   "metadata": {},
   "outputs": [],
   "source": [
    "from keras.models import Sequential, load_model\n",
    "from keras.layers import Dense, LSTM, Bidirectional, Embedding, Dropout\n",
    "from keras.utils.vis_utils import plot_model\n",
    "from keras.utils.np_utils import to_categorical\n",
    "from keras.utils import np_utils\n",
    "from sklearn.metrics import confusion_matrix\n",
    "from sklearn.metrics import classification_report\n",
    "from sklearn.metrics import plot_confusion_matrix\n",
    "from sklearn.metrics import mean_squared_error\n",
    "from sklearn.model_selection import cross_val_score\n",
    "import matplotlib.pyplot as plt\n",
    "from sklearn import metrics\n",
    "from math import sqrt\n"
   ]
  },
  {
   "cell_type": "code",
   "execution_count": null,
   "id": "postal-translation",
   "metadata": {},
   "outputs": [],
   "source": [
    "import pandas as pd\n",
    "#max data_points 225745\n",
    "data_points = 10000\n",
    "\n",
    "pve = pd.read_csv('dataset_attack.csv', nrows=data_points).drop(['frame.encap_type', 'ip.src', 'ip.dst','frame.protocols'],axis=1)\n",
    "nve = pd.read_csv('dataset_normal.csv', nrows=data_points).drop(['frame.encap_type','ip.src', 'ip.dst','frame.protocols'],axis=1)\n",
    "print (\"attack set\", pve.head)\n",
    "print (\"normal set\", nve.head)"
   ]
  },
  {
   "cell_type": "code",
   "execution_count": null,
   "id": "ahead-resolution",
   "metadata": {},
   "outputs": [],
   "source": [
    "import numpy as ny\n",
    "\n",
    "X_P= pve.drop(['class'], axis = 1).values\n",
    "X_N= nve.drop(['class'], axis = 1).values\n",
    "y_p= pve['class'].replace(to_replace=\"attack\",value=\"1\")\n",
    "y_n= nve['class'].replace(to_replace=\"normal\",value=\"0\")\n",
    "X=ny.concatenate((X_P,X_N))\n",
    "y=ny.concatenate((y_p,y_n))\n",
    "print(X)\n",
    "print(y)"
   ]
  },
  {
   "cell_type": "code",
   "execution_count": null,
   "id": "activated-pharmacy",
   "metadata": {},
   "outputs": [],
   "source": [
    "from sklearn.ensemble import RandomForestClassifier\n",
    "from sklearn.model_selection import train_test_split\n",
    "x_train, x_test, y_train, y_test = train_test_split(X,y)\n",
    "clf = RandomForestClassifier(n_estimators=100, max_depth=20)\n",
    "clf.fit(x_train,y_train)\n",
    "y_pred = clf.predict(x_test)\n",
    "cm = confusion_matrix(y_test, y_pred)\n",
    "acc = clf.score(x_test, y_test)\n",
    "rmse = sqrt(mean_squared_error(y_test, y_pred))\n",
    "print(\"Random Forest\")\n",
    "print (\"Accuracy : \", acc)\n",
    "print(\"Confusion Matrix\")\n",
    "print (cm)\n",
    "summary = classification_report(y_test, y_pred)\n",
    "plot_confusion_matrix(clf, x_test, y_test)\n",
    "print(summary)\n",
    "cross_val_scr = cross_val_score(clf, X, y, cv=10,scoring='accuracy')\n",
    "print(\"CV Score\")\n",
    "print(cross_val_scr)\n",
    "print(\" Mean: {}\".format(ny.mean(cross_val_scr)))\n",
    "plt.show()\n"
   ]
  },
  {
   "cell_type": "code",
   "execution_count": null,
   "id": "relative-authority",
   "metadata": {},
   "outputs": [],
   "source": [
    "col_cnt = X.shape[1]\n",
    "row_cnt = X.shape[0]\n",
    "matrix = ny.zeros((row_cnt-10, 10, 25))\n",
    "for i in range(row_cnt-10):\n",
    "    temp = ny.zeros((10, 25))\n",
    "    for j in range(i, i + 10 - 1):\n",
    "        temp[j-i] = X[j]\n",
    "    matrix[i] = temp\n",
    "#print(I)\n",
    "from sklearn.model_selection import train_test_split\n",
    "X_train, X_test, y_train, y_test = train_test_split(matrix, y[10:row_cnt], test_size = 0.2)\n",
    "y_train=ny.asarray(y_train).astype(ny.int32)\n",
    "print(X_train)\n",
    "print(y_train)"
   ]
  },
  {
   "cell_type": "code",
   "execution_count": null,
   "id": "flush-monaco",
   "metadata": {},
   "outputs": [],
   "source": [
    "def create_model():\n",
    "    model = Sequential()\n",
    "    model.add(Bidirectional(LSTM(64, activation='tanh', kernel_regularizer='l2')))\n",
    "    model.add(Dense(128, activation = 'relu', kernel_regularizer='l2'))\n",
    "    model.add(Dense(1, activation = 'sigmoid', kernel_regularizer='l2'))\n",
    "    return model"
   ]
  },
  {
   "cell_type": "code",
   "execution_count": null,
   "id": "primary-enemy",
   "metadata": {},
   "outputs": [],
   "source": [
    "model = create_model()\n",
    "model.compile(loss='mse', optimizer=\"rmsprop\", metrics=['accuracy'])"
   ]
  },
  {
   "cell_type": "code",
   "execution_count": null,
   "id": "noted-period",
   "metadata": {},
   "outputs": [],
   "source": [
    "model.fit(X_train, y_train, epochs = 10,validation_split=0.2, verbose = 1)"
   ]
  },
  {
   "cell_type": "code",
   "execution_count": null,
   "id": "chronic-sailing",
   "metadata": {},
   "outputs": [],
   "source": []
  }
 ],
 "metadata": {
  "kernelspec": {
   "display_name": "Python 3 (ipykernel)",
   "language": "python",
   "name": "python3"
  },
  "language_info": {
   "codemirror_mode": {
    "name": "ipython",
    "version": 3
   },
   "file_extension": ".py",
   "mimetype": "text/x-python",
   "name": "python",
   "nbconvert_exporter": "python",
   "pygments_lexer": "ipython3",
   "version": "3.9.7"
  }
 },
 "nbformat": 4,
 "nbformat_minor": 5
}
